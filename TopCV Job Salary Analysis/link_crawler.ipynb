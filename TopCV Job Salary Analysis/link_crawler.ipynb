{
  "nbformat": 4,
  "nbformat_minor": 0,
  "metadata": {
    "colab": {
      "provenance": []
    },
    "kernelspec": {
      "name": "python3",
      "display_name": "Python 3"
    },
    "language_info": {
      "name": "python"
    }
  },
  "cells": [
    {
      "cell_type": "code",
      "source": [
        "import requests\n",
        "from bs4 import BeautifulSoup"
      ],
      "metadata": {
        "id": "dP4Jz4L9gw4P"
      },
      "execution_count": null,
      "outputs": []
    },
    {
      "cell_type": "code",
      "source": [
        "headers= {'User=Agent': 'Mozilla/5.0 (Windows NT 10.0; Win64; x64) AppleWebKit/537.36 (KHTML, like Gecko) Chrome/111.0.0.0 Safari/537.36'}"
      ],
      "metadata": {
        "id": "iqkqH_DQgw4P"
      },
      "execution_count": null,
      "outputs": []
    },
    {
      "cell_type": "code",
      "source": [
        "links = []\n",
        "max_page = 405\n",
        "for page in range(1, max_page + 1):\n",
        "    url = f'https://www.topcv.vn/tim-viec-lam-moi-nhat?page={page}'\n",
        "    response = requests.get(url, headers)\n",
        "    if response.status_code == 200:\n",
        "      soup = BeautifulSoup(response.content, 'html.parser')\n",
        "      h3_tag = soup.find_all('h3', class_ ='title')\n",
        "      for item in h3_tag:\n",
        "        a_tag = item.select('a')\n",
        "        link = [a['href'] for a in a_tag]\n",
        "        links.append({'id': link})"
      ],
      "metadata": {
        "id": "KG39VHrIgw4P"
      },
      "execution_count": null,
      "outputs": []
    },
    {
      "cell_type": "code",
      "source": [
        "import pandas as pd\n",
        "import numpy as np"
      ],
      "metadata": {
        "id": "9a6XeM30gw4R"
      },
      "execution_count": null,
      "outputs": []
    },
    {
      "cell_type": "code",
      "source": [
        "df = pd.DataFrame(links)"
      ],
      "metadata": {
        "id": "sHJ67P_tgw4R"
      },
      "execution_count": null,
      "outputs": []
    },
    {
      "cell_type": "code",
      "source": [
        "def rm_brand(link):\n",
        "  if \"brand\" in str(link):\n",
        "    link1 = np.nan\n",
        "  else:\n",
        "    link1 =link\n",
        "  return link1\n",
        "df['id'] = df['id'].apply(lambda link: rm_brand(link))\n",
        "df.drop_duplicates(subset=['id'], inplace = True)\n",
        "df.dropna(inplace = True)"
      ],
      "metadata": {
        "id": "purzdyDugw4R"
      },
      "execution_count": null,
      "outputs": []
    },
    {
      "cell_type": "code",
      "source": [
        "df_old=pd.read_csv('/content/drive/MyDrive/OLAP + Mining/dataset/link/link_all_1.csv')\n",
        "df_old1=df_old.copy()\n",
        "df_old2=pd.read_csv('/content/drive/MyDrive/OLAP + Mining/dataset/link/link_all_2.csv')\n",
        "df_old3=df_old2.copy()"
      ],
      "metadata": {
        "id": "ZDojuvLRFNq5"
      },
      "execution_count": null,
      "outputs": []
    },
    {
      "cell_type": "code",
      "source": [
        "df_new=pd.concat([df['id'],df_old['id'],df_old1['id'],df_old2['id'],df_old3['id']],axis=0)\n",
        "df_new.shape"
      ],
      "metadata": {
        "id": "TTJBz6opGkT8",
        "colab": {
          "base_uri": "https://localhost:8080/"
        },
        "outputId": "8545e98a-0512-4dc3-cf17-52f120583f32"
      },
      "execution_count": null,
      "outputs": [
        {
          "output_type": "execute_result",
          "data": {
            "text/plain": [
              "(48067,)"
            ]
          },
          "metadata": {},
          "execution_count": 9
        }
      ]
    },
    {
      "cell_type": "code",
      "source": [
        "df_new.drop_duplicates(keep=False,inplace=True)\n",
        "df_new.shape"
      ],
      "metadata": {
        "id": "K9cKEe1jIygT",
        "colab": {
          "base_uri": "https://localhost:8080/"
        },
        "outputId": "4b1f7056-b51c-4dcc-efca-d08e5fc3cb1a"
      },
      "execution_count": null,
      "outputs": [
        {
          "output_type": "execute_result",
          "data": {
            "text/plain": [
              "(9657,)"
            ]
          },
          "metadata": {},
          "execution_count": 10
        }
      ]
    },
    {
      "cell_type": "code",
      "source": [
        "df_new.dropna(inplace=True)\n",
        "df_new.reset_index(drop=True, inplace=True)\n",
        "df_new.to_csv('link.csv',index=False)\n",
        "!cp link.csv \"/content/drive/MyDrive/OLAP + Mining/dataset/link\""
      ],
      "metadata": {
        "id": "HL7c63D8JJJg"
      },
      "execution_count": null,
      "outputs": []
    }
  ]
}